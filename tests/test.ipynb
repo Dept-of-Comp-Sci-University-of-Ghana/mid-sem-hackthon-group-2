{
 "cells": [
  {
   "cell_type": "code",
   "execution_count": null,
   "metadata": {},
   "outputs": [],
   "source": [
    "import unittest\n",
    "\n",
    "class TestGroupMethods(unittest.TestCase):\n",
    "    \n",
    "    def test_calculate_mean(self):\n",
    "        data = [10, 20, 30, 40, 50]\n",
    "        expected_mean = 30\n",
    "        result = calculate_mean(data)\n",
    "        self.assertEqual(result, expected_mean)\n",
    "        \n",
    "    def test_calculate_median(self):\n",
    "        data1 = [10, 20, 30, 40, 50]\n",
    "        data2 = [10, 20, 30, 40, 50, 60]\n",
    "        expected_median1 = 30\n",
    "        expected_median2 = 35\n",
    "        self.assertEqual(calculate_median(data1), expected_median1)\n",
    "        self.assertEqual(calculate_median(data2), expected_median2)\n",
    "        \n",
    "    def test_calculate_mode(self):\n",
    "        data = [10, 20, 30, 40, 50, 10, 20, 30]\n",
    "        expected_mode = [10, 20, 30]\n",
    "        result = calculate_mode(data)\n",
    "        self.assertCountEqual(result, expected_mode)\n",
    "        \n",
    "    def test_calculate_variance(self):\n",
    "        data = [10, 20, 30, 40, 50]\n",
    "        expected_variance = 225\n",
    "        result = calculate_variance(data)\n",
    "        self.assertEqual(result, expected_variance)\n",
    "        \n",
    "    def test_calculate_standard_deviation(self):\n",
    "        data = [10, 20, 30, 40, 50]\n",
    "        expected_std_dev = 15\n",
    "        result = calculate_standard_deviation(data)\n",
    "        self.assertEqual(result, expected_std_dev)\n",
    "        \n",
    "if __name__ == '__main__':\n",
    "    unittest.main()"
   ]
  }
 ],
 "metadata": {
  "language_info": {
   "name": "python"
  }
 },
 "nbformat": 4,
 "nbformat_minor": 2
}
